{
 "cells": [
  {
   "cell_type": "markdown",
   "metadata": {},
   "source": [
    "### Write A Data Science Blog Post - \n",
    "### How to find your next adventure destination...with a bit of data crunching and visualization"
   ]
  },
  {
   "cell_type": "markdown",
   "metadata": {},
   "source": [
    "#### Intro\n",
    "I'm a Belgian expatriate living in Chile since 2016. I envoy travelling through this amazing country full of remote places and\n",
    "pristine nature. I'll analyze the public data provided by the Chilean government and forest organization to gain insights on the national parks and their visitors. The main goal will be to identify parks I didn't already visited and parks to recommend to people willing to visit Chile."
   ]
  },
  {
   "cell_type": "markdown",
   "metadata": {},
   "source": [
    "#### Questions to answer\n",
    "Let's ask 3 questions about the places to visit in Chile answer them with the data :\n",
    "- Is the tourism in Chile really rising as much as I think?\n",
    "- Which are the national parks prefered by tourists ?\n",
    "- Wich are the national parks that Chileans know but tourists don't ?"
   ]
  },
  {
   "cell_type": "markdown",
   "metadata": {},
   "source": [
    "## Step 1 : gather\n",
    "We first look for information and statistics about the tourism industry in Chile, public resources and datasets are available on :\n",
    "- The website of the \"Servicio Nacional de Turismo\" : https://www.sernatur.cl/\n",
    "- The website of the \"Corporación Nacional Forestal\" in charge of the National Parks: http://www.conaf.cl/\n",
    "- The website of the \"Subsecretaria de Turismo\" in charge of the development of the turistic activities in Chile: http://www.subturismo.gob.cl\n",
    "\n",
    "Then select the following datasets :\n",
    "- The listing of the tourist suppliers registered by Sernatur\n",
    "- The statistics of visits in the national parks managed by Conaf\n",
    "- The statistics of km2 of national parks managed by Conaf\n",
    "- Statistics of foreign visitors in Chile, provided by the Subsecretaria de Turismo"
   ]
  },
  {
   "cell_type": "code",
   "execution_count": 1,
   "metadata": {},
   "outputs": [],
   "source": [
    "# Import libraries\n",
    "import pandas as pd\n",
    "import scipy as scipy\n",
    "from scipy import io\n",
    "import matplotlib.pyplot as plt\n",
    "import seaborn as sns\n",
    "\n",
    "# For map plotting\n",
    "import folium\n",
    "import os\n",
    "import numpy as np\n",
    "import bokeh\n",
    "import geopandas as gpd\n",
    "from branca.colormap import LinearColormap\n",
    "from folium.plugins import FastMarkerCluster\n",
    "from folium import plugins"
   ]
  },
  {
   "cell_type": "code",
   "execution_count": null,
   "metadata": {},
   "outputs": [],
   "source": [
    "pd.read_excel('/Conaf global.xlsx')"
   ]
  },
  {
   "cell_type": "code",
   "execution_count": 2,
   "metadata": {},
   "outputs": [],
   "source": [
    "# Loading files\n",
    "# the conaf files were registered in Pdf and year by year. They have been merged in excel before the upload\n",
    "# the foreigners by month and by region files have been merged in excel before upload\n",
    "conaf_parks = pd.read_excel('Conaf global.xlsx')\n",
    "sernatur_suppliers = pd.read_excel('Sernatur DB.xlsx')\n",
    "foreigners_monthly = pd.read_excel('Foreigners by month Conso.xlsx')\n",
    "foreigners_region = pd.read_excel('Foreigners by region Conso 1.xlsx')\n",
    "creation_parks = pd.read_excel('Creation Parks.xlsx')\n",
    "visitas_parks = pd.read_excel('Visitas Totales Conaf.xlsx')"
   ]
  },
  {
   "cell_type": "code",
   "execution_count": 3,
   "metadata": {},
   "outputs": [
    {
     "name": "stdout",
     "output_type": "stream",
     "text": [
      "Density of poblation in Chile : 23.8 inhabitants by km2\n",
      "Density of poblation in Belgium : 369.9 inhabitants by km2\n",
      "Belgium poblation density is 15.5 times the Chilean one\n"
     ]
    }
   ],
   "source": [
    "# data from World Bank for population and wikipedia for the area\n",
    "pop_chile = 18050000\n",
    "pop_belgium = 11350000\n",
    "area_chile = 756950\n",
    "area_belgium = 30688\n",
    "dens_pob_chile = pop_chile/area_chile\n",
    "dens_pob_belgium = pop_belgium/area_belgium\n",
    "print('Density of poblation in Chile : {} inhabitants by km2'.format(round(dens_pob_chile,1)))\n",
    "print('Density of poblation in Belgium : {} inhabitants by km2'.format(round(dens_pob_belgium,1)))\n",
    "print('Belgium poblation density is {} times the Chilean one'.format(round(dens_pob_belgium/dens_pob_chile,1)))"
   ]
  },
  {
   "cell_type": "markdown",
   "metadata": {},
   "source": [
    "## Step 2 : Assess & Step 3 : Clean\n",
    "This step has been mainly done in Excel and in PowerBi before the upload to the Jupyter Notebook\n",
    "Steps done in order to assess and clean the data :\n",
    "- Use of a PDF to Excel extractor\n",
    "- Check the null values\n",
    "- Check of the NaN\n",
    "- Check that the total columns matched the subtotals (e.g. : Chilenos + Extranjeros = Total)\n",
    "- Standardization of the parks names between files\n",
    "- Add column with the type of park extracted from the name column\n",
    "- Latitud and Longitud of the parks added from data available on Google Maps\n",
    "- Visualization in Power BI to identify :\n",
    "    - outliers\n",
    "    - variations between year\n",
    "    - Geographic repartition of the parks\n",
    "    - Number of parks\n",
    "    - Total visits by year (by Foreigners and by Locals)\n",
    "    - ...\n",
    "    \n",
    "An additional check has been done in the Jupyter notebook, for the sake of the lenght of the notebook I only kept the check made for the file \"conaf parks\" (the same logic has been followed for the other files and no major data cleaning has been needed after the assessment)"
   ]
  },
  {
   "cell_type": "code",
   "execution_count": 4,
   "metadata": {},
   "outputs": [
    {
     "data": {
      "text/html": [
       "<div>\n",
       "<style scoped>\n",
       "    .dataframe tbody tr th:only-of-type {\n",
       "        vertical-align: middle;\n",
       "    }\n",
       "\n",
       "    .dataframe tbody tr th {\n",
       "        vertical-align: top;\n",
       "    }\n",
       "\n",
       "    .dataframe thead th {\n",
       "        text-align: right;\n",
       "    }\n",
       "</style>\n",
       "<table border=\"1\" class=\"dataframe\">\n",
       "  <thead>\n",
       "    <tr style=\"text-align: right;\">\n",
       "      <th></th>\n",
       "      <th>Date</th>\n",
       "      <th>Año</th>\n",
       "      <th>Región</th>\n",
       "      <th>Region</th>\n",
       "      <th>Latitud</th>\n",
       "      <th>Longitud</th>\n",
       "      <th>Tipo</th>\n",
       "      <th>Tipo.1</th>\n",
       "      <th>Unidad SNASPE</th>\n",
       "      <th>Chilenos</th>\n",
       "      <th>Extranjeros</th>\n",
       "      <th>Menores</th>\n",
       "      <th>Adultos</th>\n",
       "      <th>A.Mayor</th>\n",
       "      <th>Masculino</th>\n",
       "      <th>Femenino</th>\n",
       "      <th>Discapacit.</th>\n",
       "      <th>TOTAL</th>\n",
       "    </tr>\n",
       "  </thead>\n",
       "  <tbody>\n",
       "    <tr>\n",
       "      <th>0</th>\n",
       "      <td>2016-01-01</td>\n",
       "      <td>2016</td>\n",
       "      <td>X</td>\n",
       "      <td>Los Lagos</td>\n",
       "      <td>-41.173</td>\n",
       "      <td>-72.448</td>\n",
       "      <td>P.N.</td>\n",
       "      <td>Parque Nacional</td>\n",
       "      <td>VICENTE PÉREZ ROSALES</td>\n",
       "      <td>387760</td>\n",
       "      <td>158651</td>\n",
       "      <td>83374</td>\n",
       "      <td>354909</td>\n",
       "      <td>108128</td>\n",
       "      <td>266610</td>\n",
       "      <td>279801</td>\n",
       "      <td>96</td>\n",
       "      <td>546411</td>\n",
       "    </tr>\n",
       "    <tr>\n",
       "      <th>1</th>\n",
       "      <td>2017-01-01</td>\n",
       "      <td>2017</td>\n",
       "      <td>X</td>\n",
       "      <td>Los Lagos</td>\n",
       "      <td>-41.173</td>\n",
       "      <td>-72.448</td>\n",
       "      <td>P.N.</td>\n",
       "      <td>Parque Nacional</td>\n",
       "      <td>VICENTE PÉREZ ROSALES</td>\n",
       "      <td>387411</td>\n",
       "      <td>149796</td>\n",
       "      <td>81699</td>\n",
       "      <td>344508</td>\n",
       "      <td>111000</td>\n",
       "      <td>252895</td>\n",
       "      <td>284312</td>\n",
       "      <td>163</td>\n",
       "      <td>537207</td>\n",
       "    </tr>\n",
       "    <tr>\n",
       "      <th>2</th>\n",
       "      <td>2017-01-01</td>\n",
       "      <td>2017</td>\n",
       "      <td>II</td>\n",
       "      <td>Antofagasta</td>\n",
       "      <td>-23.234</td>\n",
       "      <td>-67.657</td>\n",
       "      <td>R.N.</td>\n",
       "      <td>Reserva Nacional</td>\n",
       "      <td>LOS FLAMENCOS</td>\n",
       "      <td>221579</td>\n",
       "      <td>310227</td>\n",
       "      <td>58835</td>\n",
       "      <td>431738</td>\n",
       "      <td>41233</td>\n",
       "      <td>246802</td>\n",
       "      <td>285004</td>\n",
       "      <td>9</td>\n",
       "      <td>531806</td>\n",
       "    </tr>\n",
       "    <tr>\n",
       "      <th>3</th>\n",
       "      <td>2009-01-01</td>\n",
       "      <td>2009</td>\n",
       "      <td>X</td>\n",
       "      <td>Los Lagos</td>\n",
       "      <td>-40.678</td>\n",
       "      <td>-72.112</td>\n",
       "      <td>P.N.</td>\n",
       "      <td>Parque Nacional</td>\n",
       "      <td>PUYEHUE</td>\n",
       "      <td>325991</td>\n",
       "      <td>173138</td>\n",
       "      <td>124782</td>\n",
       "      <td>374347</td>\n",
       "      <td>0</td>\n",
       "      <td>225466</td>\n",
       "      <td>273663</td>\n",
       "      <td>0</td>\n",
       "      <td>499129</td>\n",
       "    </tr>\n",
       "    <tr>\n",
       "      <th>4</th>\n",
       "      <td>2015-01-01</td>\n",
       "      <td>2015</td>\n",
       "      <td>X</td>\n",
       "      <td>Los Lagos</td>\n",
       "      <td>-41.173</td>\n",
       "      <td>-72.448</td>\n",
       "      <td>P.N.</td>\n",
       "      <td>Parque Nacional</td>\n",
       "      <td>VICENTE PÉREZ ROSALES</td>\n",
       "      <td>348228</td>\n",
       "      <td>120295</td>\n",
       "      <td>46245</td>\n",
       "      <td>355949</td>\n",
       "      <td>66329</td>\n",
       "      <td>235247</td>\n",
       "      <td>233276</td>\n",
       "      <td>40</td>\n",
       "      <td>468523</td>\n",
       "    </tr>\n",
       "  </tbody>\n",
       "</table>\n",
       "</div>"
      ],
      "text/plain": [
       "        Date   Año Región       Region  Latitud  Longitud  Tipo  \\\n",
       "0 2016-01-01  2016      X    Los Lagos  -41.173   -72.448  P.N.   \n",
       "1 2017-01-01  2017      X    Los Lagos  -41.173   -72.448  P.N.   \n",
       "2 2017-01-01  2017     II  Antofagasta  -23.234   -67.657  R.N.   \n",
       "3 2009-01-01  2009      X    Los Lagos  -40.678   -72.112  P.N.   \n",
       "4 2015-01-01  2015      X    Los Lagos  -41.173   -72.448  P.N.   \n",
       "\n",
       "             Tipo.1           Unidad SNASPE  Chilenos  Extranjeros  Menores  \\\n",
       "0   Parque Nacional   VICENTE PÉREZ ROSALES    387760       158651    83374   \n",
       "1   Parque Nacional   VICENTE PÉREZ ROSALES    387411       149796    81699   \n",
       "2  Reserva Nacional           LOS FLAMENCOS    221579       310227    58835   \n",
       "3   Parque Nacional                 PUYEHUE    325991       173138   124782   \n",
       "4   Parque Nacional   VICENTE PÉREZ ROSALES    348228       120295    46245   \n",
       "\n",
       "   Adultos  A.Mayor  Masculino  Femenino  Discapacit.   TOTAL  \n",
       "0   354909   108128     266610    279801           96  546411  \n",
       "1   344508   111000     252895    284312          163  537207  \n",
       "2   431738    41233     246802    285004            9  531806  \n",
       "3   374347        0     225466    273663            0  499129  \n",
       "4   355949    66329     235247    233276           40  468523  "
      ]
     },
     "execution_count": 4,
     "metadata": {},
     "output_type": "execute_result"
    }
   ],
   "source": [
    "# check the structure of the DataFrame and the information available\n",
    "conaf_parks.head()"
   ]
  },
  {
   "cell_type": "code",
   "execution_count": 27,
   "metadata": {},
   "outputs": [
    {
     "data": {
      "text/plain": [
       "32"
      ]
     },
     "execution_count": 27,
     "metadata": {},
     "output_type": "execute_result"
    }
   ],
   "source": [
    "# Looking for null values\n",
    "conaf_parks.isnull().sum().sum()"
   ]
  },
  {
   "cell_type": "code",
   "execution_count": 28,
   "metadata": {},
   "outputs": [
    {
     "data": {
      "text/plain": [
       "Date             datetime64[ns]\n",
       "Año                       int64\n",
       "Región                   object\n",
       "Region                   object\n",
       "Latitud                 float64\n",
       "Longitud                float64\n",
       "Tipo                     object\n",
       "Tipo.1                   object\n",
       "Unidad SNASPE            object\n",
       "Chilenos                  int64\n",
       "Extranjeros               int64\n",
       "Menores                   int64\n",
       "Adultos                   int64\n",
       "A.Mayor                   int64\n",
       "Masculino                 int64\n",
       "Femenino                  int64\n",
       "Discapacit.               int64\n",
       "TOTAL                     int64\n",
       "% Extranjeros           float64\n",
       "dtype: object"
      ]
     },
     "execution_count": 28,
     "metadata": {},
     "output_type": "execute_result"
    }
   ],
   "source": [
    "# Validation of the datatype for each column\n",
    "conaf_parks.dtypes"
   ]
  },
  {
   "cell_type": "markdown",
   "metadata": {},
   "source": [
    "## Step 4 : Model"
   ]
  },
  {
   "cell_type": "code",
   "execution_count": 5,
   "metadata": {},
   "outputs": [
    {
     "data": {
      "text/plain": [
       "<matplotlib.axes._subplots.AxesSubplot at 0x1c3362aab00>"
      ]
     },
     "execution_count": 5,
     "metadata": {},
     "output_type": "execute_result"
    },
    {
     "data": {
      "image/png": "[encoded data removed]",
      "text/plain": [
       "<Figure size 432x288 with 1 Axes>"
      ]
     },
     "metadata": {},
     "output_type": "display_data"
    }
   ],
   "source": [
    "# Increase of km2 of protected areas\n",
    "creation_parks['Year'] = creation_parks['Fecha de Creación'].map(lambda x: x.year)\n",
    "creation_parks.groupby(['Year']).sum().cumsum().plot()"
   ]
  },
  {
   "cell_type": "code",
   "execution_count": null,
   "metadata": {},
   "outputs": [],
   "source": [
    "# The lasts territories added as national parks have been extensively commented in the press \n",
    "# Donation by the Tompkins of the Parque Patagonia et Parque Pumalin\n",
    "# In 2019 Chile added a new one : "
   ]
  },
  {
   "cell_type": "code",
   "execution_count": 6,
   "metadata": {},
   "outputs": [
    {
     "data": {
      "text/plain": [
       "Ha    18616755.67\n",
       "dtype: float64"
      ]
     },
     "execution_count": 6,
     "metadata": {},
     "output_type": "execute_result"
    }
   ],
   "source": [
    "# Total of National parks ha in 2019\n",
    "creation_parks.groupby(['Year']).sum().cumsum().max()"
   ]
  },
  {
   "cell_type": "code",
   "execution_count": 7,
   "metadata": {},
   "outputs": [
    {
     "data": {
      "text/plain": [
       "Ha    0.245944\n",
       "dtype: float64"
      ]
     },
     "execution_count": 7,
     "metadata": {},
     "output_type": "execute_result"
    }
   ],
   "source": [
    "# % of national parks (and conversion ha to km2)\n",
    "creation_parks.groupby(['Year']).sum().cumsum().max()/756950/100"
   ]
  },
  {
   "cell_type": "code",
   "execution_count": 8,
   "metadata": {},
   "outputs": [
    {
     "data": {
      "text/plain": [
       "[<matplotlib.lines.Line2D at 0x1c33c4e0dd8>]"
      ]
     },
     "execution_count": 8,
     "metadata": {},
     "output_type": "execute_result"
    },
    {
     "data": {
      "image/png": "[encoded data removed]",
      "text/plain": [
       "<Figure size 432x288 with 1 Axes>"
      ]
     },
     "metadata": {},
     "output_type": "display_data"
    }
   ],
   "source": [
    "#Increase of visits in the natural parks in Chile\n",
    "plt.plot(visitas_parks['AÑO'],visitas_parks['NÚMERO DE VISITANTES'])"
   ]
  },
  {
   "cell_type": "code",
   "execution_count": 9,
   "metadata": {},
   "outputs": [
    {
     "data": {
      "text/plain": [
       "3068184"
      ]
     },
     "execution_count": 9,
     "metadata": {},
     "output_type": "execute_result"
    }
   ],
   "source": [
    "# max number of visitors in national parks : 3,07 M in 2016\n",
    "visitas_parks['NÚMERO DE VISITANTES'].max()"
   ]
  },
  {
   "cell_type": "code",
   "execution_count": 30,
   "metadata": {},
   "outputs": [
    {
     "data": {
      "text/plain": [
       "3068184"
      ]
     },
     "execution_count": 30,
     "metadata": {},
     "output_type": "execute_result"
    }
   ],
   "source": [
    "# Validate the the other file with other details contains the same total\n",
    "conaf_parks[conaf_parks['Año']==2016]['TOTAL'].sum()"
   ]
  },
  {
   "cell_type": "code",
   "execution_count": 10,
   "metadata": {},
   "outputs": [
    {
     "data": {
      "text/plain": [
       "2156540"
      ]
     },
     "execution_count": 10,
     "metadata": {},
     "output_type": "execute_result"
    }
   ],
   "source": [
    "# Number of Chilean visitors in 2017\n",
    "conaf_parks[conaf_parks['Año']==2017]['Chilenos'].sum()"
   ]
  },
  {
   "cell_type": "code",
   "execution_count": 11,
   "metadata": {},
   "outputs": [
    {
     "name": "stdout",
     "output_type": "stream",
     "text": [
      "Total visits : 2156540\n",
      "Average by Chilean : 0.11947590027700832\n"
     ]
    }
   ],
   "source": [
    "# Calculate the average number of visits that a Chilean does to a National park by year\n",
    "print('Total visits : {}'.format(conaf_parks[conaf_parks['Año']==2017]['Chilenos'].sum()))\n",
    "print('Average by Chilean : {}'.format(conaf_parks[conaf_parks['Año']==2017]['Chilenos'].sum()/18050000))\n",
    "# Chilean loves their nature, but they don't visit that often the parks, 10% of Chileans visit a national park every year."
   ]
  },
  {
   "cell_type": "code",
   "execution_count": 61,
   "metadata": {},
   "outputs": [
    {
     "data": {
      "text/html": [
       "<div>\n",
       "<style scoped>\n",
       "    .dataframe tbody tr th:only-of-type {\n",
       "        vertical-align: middle;\n",
       "    }\n",
       "\n",
       "    .dataframe tbody tr th {\n",
       "        vertical-align: top;\n",
       "    }\n",
       "\n",
       "    .dataframe thead th {\n",
       "        text-align: right;\n",
       "    }\n",
       "</style>\n",
       "<table border=\"1\" class=\"dataframe\">\n",
       "  <thead>\n",
       "    <tr style=\"text-align: right;\">\n",
       "      <th></th>\n",
       "      <th>TOTAL</th>\n",
       "      <th>Unidad SNASPE</th>\n",
       "    </tr>\n",
       "  </thead>\n",
       "  <tbody>\n",
       "    <tr>\n",
       "      <th>1</th>\n",
       "      <td>537207</td>\n",
       "      <td>VICENTE PÉREZ ROSALES</td>\n",
       "    </tr>\n",
       "    <tr>\n",
       "      <th>2</th>\n",
       "      <td>531806</td>\n",
       "      <td>LOS FLAMENCOS</td>\n",
       "    </tr>\n",
       "    <tr>\n",
       "      <th>12</th>\n",
       "      <td>264800</td>\n",
       "      <td>TORRES DEL PAINE</td>\n",
       "    </tr>\n",
       "  </tbody>\n",
       "</table>\n",
       "</div>"
      ],
      "text/plain": [
       "     TOTAL           Unidad SNASPE\n",
       "1   537207   VICENTE PÉREZ ROSALES\n",
       "2   531806           LOS FLAMENCOS\n",
       "12  264800        TORRES DEL PAINE"
      ]
     },
     "execution_count": 61,
     "metadata": {},
     "output_type": "execute_result"
    }
   ],
   "source": [
    "# Parks with more visitors\n",
    "conaf_parks[conaf_parks['Año']==2017][['TOTAL','Unidad SNASPE']].sort_values(by=['TOTAL'],ascending=False).head(3)"
   ]
  },
  {
   "cell_type": "code",
   "execution_count": 65,
   "metadata": {},
   "outputs": [
    {
     "data": {
      "text/plain": [
       "TOTAL    1333813\n",
       "dtype: int64"
      ]
     },
     "execution_count": 65,
     "metadata": {},
     "output_type": "execute_result"
    }
   ],
   "source": [
    "# Total of visitors in these 3 parks\n",
    "conaf_parks[conaf_parks['Año']==2017][['TOTAL']].sort_values(by=['TOTAL'],ascending=False).head(3).sum()"
   ]
  },
  {
   "cell_type": "code",
   "execution_count": 66,
   "metadata": {},
   "outputs": [
    {
     "data": {
      "text/plain": [
       "TOTAL    86\n",
       "dtype: int64"
      ]
     },
     "execution_count": 66,
     "metadata": {},
     "output_type": "execute_result"
    }
   ],
   "source": [
    "# Count of parks in 2017\n",
    "conaf_parks[conaf_parks['Año']==2017][['TOTAL']].count()"
   ]
  },
  {
   "cell_type": "code",
   "execution_count": 64,
   "metadata": {},
   "outputs": [
    {
     "data": {
      "text/plain": [
       "TOTAL    0.441743\n",
       "dtype: float64"
      ]
     },
     "execution_count": 64,
     "metadata": {},
     "output_type": "execute_result"
    }
   ],
   "source": [
    "# % of visitors in 3 main parks on the total of visitors in all the parks\n",
    "conaf_parks[conaf_parks['Año']==2017][['TOTAL']].sort_values(by=['TOTAL'],ascending=False).head(3).sum()/conaf_parks[conaf_parks['Año']==2017][['TOTAL']].sum()"
   ]
  },
  {
   "cell_type": "code",
   "execution_count": 13,
   "metadata": {},
   "outputs": [
    {
     "data": {
      "text/html": [
       "<div>\n",
       "<style scoped>\n",
       "    .dataframe tbody tr th:only-of-type {\n",
       "        vertical-align: middle;\n",
       "    }\n",
       "\n",
       "    .dataframe tbody tr th {\n",
       "        vertical-align: top;\n",
       "    }\n",
       "\n",
       "    .dataframe thead th {\n",
       "        text-align: right;\n",
       "    }\n",
       "</style>\n",
       "<table border=\"1\" class=\"dataframe\">\n",
       "  <thead>\n",
       "    <tr style=\"text-align: right;\">\n",
       "      <th></th>\n",
       "      <th>% Extranjeros</th>\n",
       "      <th>Unidad SNASPE</th>\n",
       "    </tr>\n",
       "  </thead>\n",
       "  <tbody>\n",
       "    <tr>\n",
       "      <th>419</th>\n",
       "      <td>0.933360</td>\n",
       "      <td>CABO DE HORNOS</td>\n",
       "    </tr>\n",
       "    <tr>\n",
       "      <th>190</th>\n",
       "      <td>0.820032</td>\n",
       "      <td>LOS PINGÜINOS</td>\n",
       "    </tr>\n",
       "    <tr>\n",
       "      <th>767</th>\n",
       "      <td>0.769231</td>\n",
       "      <td>BERNARDO O HIGGINS</td>\n",
       "    </tr>\n",
       "    <tr>\n",
       "      <th>621</th>\n",
       "      <td>0.697121</td>\n",
       "      <td>SALAR DE SURIRE</td>\n",
       "    </tr>\n",
       "    <tr>\n",
       "      <th>658</th>\n",
       "      <td>0.677481</td>\n",
       "      <td>LAS VICUÑAS</td>\n",
       "    </tr>\n",
       "    <tr>\n",
       "      <th>272</th>\n",
       "      <td>0.646851</td>\n",
       "      <td>RÍO SIMPSON</td>\n",
       "    </tr>\n",
       "    <tr>\n",
       "      <th>2</th>\n",
       "      <td>0.583346</td>\n",
       "      <td>LOS FLAMENCOS</td>\n",
       "    </tr>\n",
       "    <tr>\n",
       "      <th>490</th>\n",
       "      <td>0.570041</td>\n",
       "      <td>ALACALUFES</td>\n",
       "    </tr>\n",
       "    <tr>\n",
       "      <th>12</th>\n",
       "      <td>0.569569</td>\n",
       "      <td>TORRES DEL PAINE</td>\n",
       "    </tr>\n",
       "    <tr>\n",
       "      <th>162</th>\n",
       "      <td>0.456167</td>\n",
       "      <td>BERNARDO O HIGGINS</td>\n",
       "    </tr>\n",
       "    <tr>\n",
       "      <th>100</th>\n",
       "      <td>0.424823</td>\n",
       "      <td>RAPA NUI</td>\n",
       "    </tr>\n",
       "  </tbody>\n",
       "</table>\n",
       "</div>"
      ],
      "text/plain": [
       "     % Extranjeros        Unidad SNASPE\n",
       "419       0.933360       CABO DE HORNOS\n",
       "190       0.820032        LOS PINGÜINOS\n",
       "767       0.769231   BERNARDO O HIGGINS\n",
       "621       0.697121      SALAR DE SURIRE\n",
       "658       0.677481          LAS VICUÑAS\n",
       "272       0.646851          RÍO SIMPSON\n",
       "2         0.583346        LOS FLAMENCOS\n",
       "490       0.570041           ALACALUFES\n",
       "12        0.569569     TORRES DEL PAINE\n",
       "162       0.456167   BERNARDO O HIGGINS\n",
       "100       0.424823             RAPA NUI"
      ]
     },
     "execution_count": 13,
     "metadata": {},
     "output_type": "execute_result"
    }
   ],
   "source": [
    "# What are the places that have a high proportion of Foreign visitors\n",
    "conaf_parks['% Extranjeros'] = conaf_parks['Extranjeros']/conaf_parks['TOTAL']\n",
    "conaf_parks[conaf_parks['Año']==2017][['% Extranjeros','Unidad SNASPE']].sort_values(by=['% Extranjeros'],ascending=False).head(11)\n",
    "#These places requires to take an internal flight (and a travel agency or tour)\n",
    "#Foreigners can afford to visit the most remote places \n",
    "# while the average chilean salary is 433USD in 2019 (the price of a cheap flight to Easter Island (Rapa Nui from Santiago)"
   ]
  },
  {
   "cell_type": "code",
   "execution_count": 17,
   "metadata": {},
   "outputs": [
    {
     "data": {
      "text/html": [
       "<div style=\"width:100%;\"><div style=\"position:relative;width:100%;height:0;padding-bottom:60%;\"><iframe src=\"data:text/html;charset=utf-8;base64,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\" style=\"position:absolute;width:100%;height:100%;left:0;top:0;border:none !important;\" allowfullscreen webkitallowfullscreen mozallowfullscreen></iframe></div></div>"
      ],
      "text/plain": [
       "<folium.folium.Map at 0x1c33bdd4048>"
      ]
     },
     "execution_count": 17,
     "metadata": {},
     "output_type": "execute_result"
    }
   ],
   "source": [
    "# Create map object for parks most visited by tourists\n",
    "map = folium.Map(location=[-40, -70],zoom_start=4,tiles='Stamen Terrain')\n",
    "for i in range(0,len(conaf_parks[(conaf_parks['Año']==2017)&(conaf_parks['% Extranjeros']>=0.42)])):\n",
    "    folium.Marker(location=[conaf_parks[(conaf_parks['Año']==2017)&(conaf_parks['% Extranjeros']>=0.42)]['Latitud'].tolist()[i],\n",
    "                        conaf_parks[(conaf_parks['Año']==2017)&(conaf_parks['% Extranjeros']>=0.42)]['Longitud'].tolist()[i]]).add_to(map)\n",
    "map"
   ]
  },
  {
   "cell_type": "code",
   "execution_count": 34,
   "metadata": {},
   "outputs": [
    {
     "data": {
      "text/html": [
       "<div>\n",
       "<style scoped>\n",
       "    .dataframe tbody tr th:only-of-type {\n",
       "        vertical-align: middle;\n",
       "    }\n",
       "\n",
       "    .dataframe tbody tr th {\n",
       "        vertical-align: top;\n",
       "    }\n",
       "\n",
       "    .dataframe thead th {\n",
       "        text-align: right;\n",
       "    }\n",
       "</style>\n",
       "<table border=\"1\" class=\"dataframe\">\n",
       "  <thead>\n",
       "    <tr style=\"text-align: right;\">\n",
       "      <th></th>\n",
       "      <th>Date</th>\n",
       "      <th>Año</th>\n",
       "      <th>Región</th>\n",
       "      <th>Region</th>\n",
       "      <th>Latitud</th>\n",
       "      <th>Longitud</th>\n",
       "      <th>Tipo</th>\n",
       "      <th>Tipo.1</th>\n",
       "      <th>Unidad SNASPE</th>\n",
       "      <th>Chilenos</th>\n",
       "      <th>Extranjeros</th>\n",
       "      <th>Menores</th>\n",
       "      <th>Adultos</th>\n",
       "      <th>A.Mayor</th>\n",
       "      <th>Masculino</th>\n",
       "      <th>Femenino</th>\n",
       "      <th>Discapacit.</th>\n",
       "      <th>TOTAL</th>\n",
       "      <th>% Extranjeros</th>\n",
       "    </tr>\n",
       "  </thead>\n",
       "  <tbody>\n",
       "    <tr>\n",
       "      <th>2</th>\n",
       "      <td>2017-01-01</td>\n",
       "      <td>2017</td>\n",
       "      <td>II</td>\n",
       "      <td>Antofagasta</td>\n",
       "      <td>-23.234</td>\n",
       "      <td>-67.657</td>\n",
       "      <td>R.N.</td>\n",
       "      <td>Reserva Nacional</td>\n",
       "      <td>LOS FLAMENCOS</td>\n",
       "      <td>221579</td>\n",
       "      <td>310227</td>\n",
       "      <td>58835</td>\n",
       "      <td>431738</td>\n",
       "      <td>41233</td>\n",
       "      <td>246802</td>\n",
       "      <td>285004</td>\n",
       "      <td>9</td>\n",
       "      <td>531806</td>\n",
       "      <td>0.583346</td>\n",
       "    </tr>\n",
       "    <tr>\n",
       "      <th>12</th>\n",
       "      <td>2017-01-01</td>\n",
       "      <td>2017</td>\n",
       "      <td>XII</td>\n",
       "      <td>Magallanes y de la Antártica Chilena</td>\n",
       "      <td>-50.942</td>\n",
       "      <td>-73.407</td>\n",
       "      <td>P.N.</td>\n",
       "      <td>Parque Nacional</td>\n",
       "      <td>TORRES DEL PAINE</td>\n",
       "      <td>113978</td>\n",
       "      <td>150822</td>\n",
       "      <td>17724</td>\n",
       "      <td>223738</td>\n",
       "      <td>23338</td>\n",
       "      <td>132957</td>\n",
       "      <td>131843</td>\n",
       "      <td>2106</td>\n",
       "      <td>264800</td>\n",
       "      <td>0.569569</td>\n",
       "    </tr>\n",
       "    <tr>\n",
       "      <th>100</th>\n",
       "      <td>2017-01-01</td>\n",
       "      <td>2017</td>\n",
       "      <td>O.C.</td>\n",
       "      <td>Isla de Pascua</td>\n",
       "      <td>-27.124</td>\n",
       "      <td>-109.342</td>\n",
       "      <td>P.N.</td>\n",
       "      <td>Parque Nacional</td>\n",
       "      <td>RAPA NUI</td>\n",
       "      <td>35003</td>\n",
       "      <td>25853</td>\n",
       "      <td>5241</td>\n",
       "      <td>52195</td>\n",
       "      <td>3420</td>\n",
       "      <td>27989</td>\n",
       "      <td>32867</td>\n",
       "      <td>121</td>\n",
       "      <td>60856</td>\n",
       "      <td>0.424823</td>\n",
       "    </tr>\n",
       "    <tr>\n",
       "      <th>162</th>\n",
       "      <td>2017-01-01</td>\n",
       "      <td>2017</td>\n",
       "      <td>XII</td>\n",
       "      <td>Magallanes y de la Antártica Chilena</td>\n",
       "      <td>-49.797</td>\n",
       "      <td>-74.485</td>\n",
       "      <td>P.N.</td>\n",
       "      <td>Parque Nacional</td>\n",
       "      <td>BERNARDO O HIGGINS</td>\n",
       "      <td>19274</td>\n",
       "      <td>16167</td>\n",
       "      <td>1225</td>\n",
       "      <td>26385</td>\n",
       "      <td>7831</td>\n",
       "      <td>17539</td>\n",
       "      <td>17902</td>\n",
       "      <td>13</td>\n",
       "      <td>35441</td>\n",
       "      <td>0.456167</td>\n",
       "    </tr>\n",
       "    <tr>\n",
       "      <th>190</th>\n",
       "      <td>2017-01-01</td>\n",
       "      <td>2017</td>\n",
       "      <td>XII</td>\n",
       "      <td>Magallanes y de la Antártica Chilena</td>\n",
       "      <td>-52.919</td>\n",
       "      <td>-70.579</td>\n",
       "      <td>M.N.</td>\n",
       "      <td>Monumento Nacional</td>\n",
       "      <td>LOS PINGÜINOS</td>\n",
       "      <td>4634</td>\n",
       "      <td>21115</td>\n",
       "      <td>1054</td>\n",
       "      <td>16175</td>\n",
       "      <td>8520</td>\n",
       "      <td>12359</td>\n",
       "      <td>13390</td>\n",
       "      <td>56</td>\n",
       "      <td>25749</td>\n",
       "      <td>0.820032</td>\n",
       "    </tr>\n",
       "    <tr>\n",
       "      <th>272</th>\n",
       "      <td>2017-01-01</td>\n",
       "      <td>2017</td>\n",
       "      <td>XI</td>\n",
       "      <td>Aysén</td>\n",
       "      <td>-45.557</td>\n",
       "      <td>-72.325</td>\n",
       "      <td>R.N.</td>\n",
       "      <td>Reserva Nacional</td>\n",
       "      <td>RÍO SIMPSON</td>\n",
       "      <td>4895</td>\n",
       "      <td>8966</td>\n",
       "      <td>1836</td>\n",
       "      <td>7543</td>\n",
       "      <td>4482</td>\n",
       "      <td>7124</td>\n",
       "      <td>6737</td>\n",
       "      <td>61</td>\n",
       "      <td>13861</td>\n",
       "      <td>0.646851</td>\n",
       "    </tr>\n",
       "    <tr>\n",
       "      <th>419</th>\n",
       "      <td>2017-01-01</td>\n",
       "      <td>2017</td>\n",
       "      <td>XII</td>\n",
       "      <td>Magallanes y de la Antártica Chilena</td>\n",
       "      <td>-55.666</td>\n",
       "      <td>-67.660</td>\n",
       "      <td>P.N.</td>\n",
       "      <td>Parque Nacional</td>\n",
       "      <td>CABO DE HORNOS</td>\n",
       "      <td>334</td>\n",
       "      <td>4678</td>\n",
       "      <td>120</td>\n",
       "      <td>2496</td>\n",
       "      <td>2396</td>\n",
       "      <td>2521</td>\n",
       "      <td>2491</td>\n",
       "      <td>0</td>\n",
       "      <td>5012</td>\n",
       "      <td>0.933360</td>\n",
       "    </tr>\n",
       "    <tr>\n",
       "      <th>490</th>\n",
       "      <td>2017-01-01</td>\n",
       "      <td>2017</td>\n",
       "      <td>XII</td>\n",
       "      <td>Magallanes y de la Antártica Chilena</td>\n",
       "      <td>-52.509</td>\n",
       "      <td>-73.806</td>\n",
       "      <td>R.N.</td>\n",
       "      <td>Reserva Nacional</td>\n",
       "      <td>ALACALUFES</td>\n",
       "      <td>1151</td>\n",
       "      <td>1526</td>\n",
       "      <td>128</td>\n",
       "      <td>1653</td>\n",
       "      <td>896</td>\n",
       "      <td>1338</td>\n",
       "      <td>1339</td>\n",
       "      <td>0</td>\n",
       "      <td>2677</td>\n",
       "      <td>0.570041</td>\n",
       "    </tr>\n",
       "    <tr>\n",
       "      <th>621</th>\n",
       "      <td>2017-01-01</td>\n",
       "      <td>2017</td>\n",
       "      <td>XV</td>\n",
       "      <td>Arica y Parinacota</td>\n",
       "      <td>-18.828</td>\n",
       "      <td>-69.095</td>\n",
       "      <td>M.N.</td>\n",
       "      <td>Monumento Nacional</td>\n",
       "      <td>SALAR DE SURIRE</td>\n",
       "      <td>242</td>\n",
       "      <td>557</td>\n",
       "      <td>14</td>\n",
       "      <td>722</td>\n",
       "      <td>63</td>\n",
       "      <td>450</td>\n",
       "      <td>349</td>\n",
       "      <td>0</td>\n",
       "      <td>799</td>\n",
       "      <td>0.697121</td>\n",
       "    </tr>\n",
       "    <tr>\n",
       "      <th>658</th>\n",
       "      <td>2017-01-01</td>\n",
       "      <td>2017</td>\n",
       "      <td>XV</td>\n",
       "      <td>Arica y Parinacota</td>\n",
       "      <td>-18.640</td>\n",
       "      <td>-69.200</td>\n",
       "      <td>R.N.</td>\n",
       "      <td>Reserva Nacional</td>\n",
       "      <td>LAS VICUÑAS</td>\n",
       "      <td>169</td>\n",
       "      <td>355</td>\n",
       "      <td>2</td>\n",
       "      <td>488</td>\n",
       "      <td>34</td>\n",
       "      <td>294</td>\n",
       "      <td>230</td>\n",
       "      <td>0</td>\n",
       "      <td>524</td>\n",
       "      <td>0.677481</td>\n",
       "    </tr>\n",
       "    <tr>\n",
       "      <th>767</th>\n",
       "      <td>2017-01-01</td>\n",
       "      <td>2017</td>\n",
       "      <td>XI</td>\n",
       "      <td>Aysén</td>\n",
       "      <td>-49.797</td>\n",
       "      <td>-74.485</td>\n",
       "      <td>P.N.</td>\n",
       "      <td>Parque Nacional</td>\n",
       "      <td>BERNARDO O HIGGINS</td>\n",
       "      <td>3</td>\n",
       "      <td>10</td>\n",
       "      <td>0</td>\n",
       "      <td>13</td>\n",
       "      <td>0</td>\n",
       "      <td>5</td>\n",
       "      <td>8</td>\n",
       "      <td>0</td>\n",
       "      <td>13</td>\n",
       "      <td>0.769231</td>\n",
       "    </tr>\n",
       "  </tbody>\n",
       "</table>\n",
       "</div>"
      ],
      "text/plain": [
       "          Date   Año Región                                Region  Latitud  \\\n",
       "2   2017-01-01  2017     II                           Antofagasta  -23.234   \n",
       "12  2017-01-01  2017    XII  Magallanes y de la Antártica Chilena  -50.942   \n",
       "100 2017-01-01  2017   O.C.                        Isla de Pascua  -27.124   \n",
       "162 2017-01-01  2017    XII  Magallanes y de la Antártica Chilena  -49.797   \n",
       "190 2017-01-01  2017    XII  Magallanes y de la Antártica Chilena  -52.919   \n",
       "272 2017-01-01  2017     XI                                 Aysén  -45.557   \n",
       "419 2017-01-01  2017    XII  Magallanes y de la Antártica Chilena  -55.666   \n",
       "490 2017-01-01  2017    XII  Magallanes y de la Antártica Chilena  -52.509   \n",
       "621 2017-01-01  2017     XV                    Arica y Parinacota  -18.828   \n",
       "658 2017-01-01  2017     XV                    Arica y Parinacota  -18.640   \n",
       "767 2017-01-01  2017     XI                                 Aysén  -49.797   \n",
       "\n",
       "     Longitud  Tipo              Tipo.1        Unidad SNASPE  Chilenos  \\\n",
       "2     -67.657  R.N.    Reserva Nacional        LOS FLAMENCOS    221579   \n",
       "12    -73.407  P.N.     Parque Nacional     TORRES DEL PAINE    113978   \n",
       "100  -109.342  P.N.     Parque Nacional             RAPA NUI     35003   \n",
       "162   -74.485  P.N.     Parque Nacional   BERNARDO O HIGGINS     19274   \n",
       "190   -70.579  M.N.  Monumento Nacional        LOS PINGÜINOS      4634   \n",
       "272   -72.325  R.N.    Reserva Nacional          RÍO SIMPSON      4895   \n",
       "419   -67.660  P.N.     Parque Nacional       CABO DE HORNOS       334   \n",
       "490   -73.806  R.N.    Reserva Nacional           ALACALUFES      1151   \n",
       "621   -69.095  M.N.  Monumento Nacional      SALAR DE SURIRE       242   \n",
       "658   -69.200  R.N.    Reserva Nacional          LAS VICUÑAS       169   \n",
       "767   -74.485  P.N.     Parque Nacional   BERNARDO O HIGGINS         3   \n",
       "\n",
       "     Extranjeros  Menores  Adultos  A.Mayor  Masculino  Femenino  Discapacit.  \\\n",
       "2         310227    58835   431738    41233     246802    285004            9   \n",
       "12        150822    17724   223738    23338     132957    131843         2106   \n",
       "100        25853     5241    52195     3420      27989     32867          121   \n",
       "162        16167     1225    26385     7831      17539     17902           13   \n",
       "190        21115     1054    16175     8520      12359     13390           56   \n",
       "272         8966     1836     7543     4482       7124      6737           61   \n",
       "419         4678      120     2496     2396       2521      2491            0   \n",
       "490         1526      128     1653      896       1338      1339            0   \n",
       "621          557       14      722       63        450       349            0   \n",
       "658          355        2      488       34        294       230            0   \n",
       "767           10        0       13        0          5         8            0   \n",
       "\n",
       "      TOTAL  % Extranjeros  \n",
       "2    531806       0.583346  \n",
       "12   264800       0.569569  \n",
       "100   60856       0.424823  \n",
       "162   35441       0.456167  \n",
       "190   25749       0.820032  \n",
       "272   13861       0.646851  \n",
       "419    5012       0.933360  \n",
       "490    2677       0.570041  \n",
       "621     799       0.697121  \n",
       "658     524       0.677481  \n",
       "767      13       0.769231  "
      ]
     },
     "execution_count": 34,
     "metadata": {},
     "output_type": "execute_result"
    }
   ],
   "source": [
    "conaf_parks[(conaf_parks['Año']==2017)&(conaf_parks['% Extranjeros']>=0.42)]"
   ]
  },
  {
   "cell_type": "code",
   "execution_count": 31,
   "metadata": {},
   "outputs": [
    {
     "data": {
      "text/html": [
       "<div style=\"width:100%;\"><div style=\"position:relative;width:100%;height:0;padding-bottom:60%;\"><iframe src=\"data:text/html;charset=utf-8;base64,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\" style=\"position:absolute;width:100%;height:100%;left:0;top:0;border:none !important;\" allowfullscreen webkitallowfullscreen mozallowfullscreen></iframe></div></div>"
      ],
      "text/plain": [
       "<folium.folium.Map at 0x1c33be426d8>"
      ]
     },
     "execution_count": 31,
     "metadata": {},
     "output_type": "execute_result"
    }
   ],
   "source": [
    "# Create map object for parks with less than 6% foreigners and with a minimum of 20.000 visitors\n",
    "map1 = folium.Map(location=[-40, -70],zoom_start=4,tiles='Stamen Terrain')\n",
    "for i in range(0,len(conaf_parks[(conaf_parks['Año']==2017)&(conaf_parks['% Extranjeros']<=0.06)&(conaf_parks['TOTAL']>=20000)&(conaf_parks['Tipo']=='P.N.')])):\n",
    "    folium.Marker(location=[conaf_parks[(conaf_parks['Año']==2017)&(conaf_parks['% Extranjeros']<=0.06)&(conaf_parks['TOTAL']>=20000)&(conaf_parks['Tipo']=='P.N.')]['Latitud'].tolist()[i],\n",
    "                        conaf_parks[(conaf_parks['Año']==2017)&(conaf_parks['% Extranjeros']<=0.06)&(conaf_parks['TOTAL']>=20000)&(conaf_parks['Tipo']=='P.N.')]['Longitud'].tolist()[i]]).add_to(map1)\n",
    "map1"
   ]
  },
  {
   "cell_type": "code",
   "execution_count": 33,
   "metadata": {},
   "outputs": [
    {
     "data": {
      "text/html": [
       "<div>\n",
       "<style scoped>\n",
       "    .dataframe tbody tr th:only-of-type {\n",
       "        vertical-align: middle;\n",
       "    }\n",
       "\n",
       "    .dataframe tbody tr th {\n",
       "        vertical-align: top;\n",
       "    }\n",
       "\n",
       "    .dataframe thead th {\n",
       "        text-align: right;\n",
       "    }\n",
       "</style>\n",
       "<table border=\"1\" class=\"dataframe\">\n",
       "  <thead>\n",
       "    <tr style=\"text-align: right;\">\n",
       "      <th></th>\n",
       "      <th>Date</th>\n",
       "      <th>Año</th>\n",
       "      <th>Región</th>\n",
       "      <th>Region</th>\n",
       "      <th>Latitud</th>\n",
       "      <th>Longitud</th>\n",
       "      <th>Tipo</th>\n",
       "      <th>Tipo.1</th>\n",
       "      <th>Unidad SNASPE</th>\n",
       "      <th>Chilenos</th>\n",
       "      <th>Extranjeros</th>\n",
       "      <th>Menores</th>\n",
       "      <th>Adultos</th>\n",
       "      <th>A.Mayor</th>\n",
       "      <th>Masculino</th>\n",
       "      <th>Femenino</th>\n",
       "      <th>Discapacit.</th>\n",
       "      <th>TOTAL</th>\n",
       "      <th>% Extranjeros</th>\n",
       "    </tr>\n",
       "  </thead>\n",
       "  <tbody>\n",
       "    <tr>\n",
       "      <th>61</th>\n",
       "      <td>2017-01-01</td>\n",
       "      <td>2017</td>\n",
       "      <td>IX</td>\n",
       "      <td>Araucanía</td>\n",
       "      <td>-38.691</td>\n",
       "      <td>-71.674</td>\n",
       "      <td>P.N.</td>\n",
       "      <td>Parque Nacional</td>\n",
       "      <td>CONGUILLIO</td>\n",
       "      <td>88267</td>\n",
       "      <td>4705</td>\n",
       "      <td>23672</td>\n",
       "      <td>65586</td>\n",
       "      <td>3714</td>\n",
       "      <td>48683</td>\n",
       "      <td>44289</td>\n",
       "      <td>693</td>\n",
       "      <td>92972</td>\n",
       "      <td>0.050607</td>\n",
       "    </tr>\n",
       "    <tr>\n",
       "      <th>80</th>\n",
       "      <td>2017-01-01</td>\n",
       "      <td>2017</td>\n",
       "      <td>VIII</td>\n",
       "      <td>Concepción</td>\n",
       "      <td>-37.385</td>\n",
       "      <td>-71.378</td>\n",
       "      <td>P.N.</td>\n",
       "      <td>Parque Nacional</td>\n",
       "      <td>LAGUNA DEL LAJA</td>\n",
       "      <td>75783</td>\n",
       "      <td>470</td>\n",
       "      <td>21484</td>\n",
       "      <td>53676</td>\n",
       "      <td>1093</td>\n",
       "      <td>43575</td>\n",
       "      <td>32678</td>\n",
       "      <td>0</td>\n",
       "      <td>76253</td>\n",
       "      <td>0.006164</td>\n",
       "    </tr>\n",
       "    <tr>\n",
       "      <th>124</th>\n",
       "      <td>2017-01-01</td>\n",
       "      <td>2017</td>\n",
       "      <td>V</td>\n",
       "      <td>Valparaíso</td>\n",
       "      <td>-32.955</td>\n",
       "      <td>-71.081</td>\n",
       "      <td>P.N.</td>\n",
       "      <td>Parque Nacional</td>\n",
       "      <td>LA CAMPANA</td>\n",
       "      <td>48279</td>\n",
       "      <td>1830</td>\n",
       "      <td>11318</td>\n",
       "      <td>37598</td>\n",
       "      <td>1193</td>\n",
       "      <td>27489</td>\n",
       "      <td>22620</td>\n",
       "      <td>1</td>\n",
       "      <td>50109</td>\n",
       "      <td>0.036520</td>\n",
       "    </tr>\n",
       "    <tr>\n",
       "      <th>217</th>\n",
       "      <td>2017-01-01</td>\n",
       "      <td>2017</td>\n",
       "      <td>IX</td>\n",
       "      <td>Araucanía</td>\n",
       "      <td>-37.792</td>\n",
       "      <td>-72.998</td>\n",
       "      <td>P.N.</td>\n",
       "      <td>Parque Nacional</td>\n",
       "      <td>NAHUELBUTA</td>\n",
       "      <td>20817</td>\n",
       "      <td>269</td>\n",
       "      <td>3294</td>\n",
       "      <td>17046</td>\n",
       "      <td>746</td>\n",
       "      <td>10947</td>\n",
       "      <td>10139</td>\n",
       "      <td>650</td>\n",
       "      <td>21086</td>\n",
       "      <td>0.012757</td>\n",
       "    </tr>\n",
       "  </tbody>\n",
       "</table>\n",
       "</div>"
      ],
      "text/plain": [
       "          Date   Año Región      Region  Latitud  Longitud  Tipo  \\\n",
       "61  2017-01-01  2017     IX   Araucanía  -38.691   -71.674  P.N.   \n",
       "80  2017-01-01  2017   VIII  Concepción  -37.385   -71.378  P.N.   \n",
       "124 2017-01-01  2017      V  Valparaíso  -32.955   -71.081  P.N.   \n",
       "217 2017-01-01  2017     IX   Araucanía  -37.792   -72.998  P.N.   \n",
       "\n",
       "              Tipo.1     Unidad SNASPE  Chilenos  Extranjeros  Menores  \\\n",
       "61   Parque Nacional        CONGUILLIO     88267         4705    23672   \n",
       "80   Parque Nacional   LAGUNA DEL LAJA     75783          470    21484   \n",
       "124  Parque Nacional        LA CAMPANA     48279         1830    11318   \n",
       "217  Parque Nacional        NAHUELBUTA     20817          269     3294   \n",
       "\n",
       "     Adultos  A.Mayor  Masculino  Femenino  Discapacit.  TOTAL  % Extranjeros  \n",
       "61     65586     3714      48683     44289          693  92972       0.050607  \n",
       "80     53676     1093      43575     32678            0  76253       0.006164  \n",
       "124    37598     1193      27489     22620            1  50109       0.036520  \n",
       "217    17046      746      10947     10139          650  21086       0.012757  "
      ]
     },
     "execution_count": 33,
     "metadata": {},
     "output_type": "execute_result"
    }
   ],
   "source": [
    "conaf_parks[(conaf_parks['Año']==2017)&(conaf_parks['% Extranjeros']<=0.06)&(conaf_parks['TOTAL']>=20000)&(conaf_parks['Tipo']=='P.N.')]"
   ]
  },
  {
   "cell_type": "code",
   "execution_count": 38,
   "metadata": {},
   "outputs": [
    {
     "data": {
      "text/plain": [
       "array([' ARCHIPIELAGO DE JUAN FERNÁNDEZ', ' LAGO JEINIMENI',\n",
       "       ' VILLARICA SECTOR SUR', ' PALI AIKE', ' CERRO CASTILLO',\n",
       "       ' FUTALEUFÚ', ' ALACALUFES', ' ALERCE COSTERO', ' LAS CHINCHILLAS',\n",
       "       ' DOS LAGUNAS', ' MOCHO-CHOSHUENCO', ' ISLOTES DE PUÑIHUIL',\n",
       "       ' EL YALI', ' NEVADO DE TRES CRUCES', ' ISLA MOCHA', ' HORNOPIRÉN',\n",
       "       ' VILLARRICA', ' RALCO', ' SALAR DE SURIRE',\n",
       "       ' LOS BELLOTOS DEL MELADO', ' LOS HUEMULES DE NIBLINTO',\n",
       "       ' LAS VICUÑAS', ' ALTOS DE PEMEHUE', ' VOLCAN ISLUGA',\n",
       "       ' LOS QUEULES', ' CERRO HUEMULES', ' TRAPANANDA',\n",
       "       ' ROBLERÍA DEL COBRE DE LONCHA', ' ALTO BÍO - BÍO',\n",
       "       ' BERNARDO O HIGGINS', ' CHINA MUERTA', ' MALLECO', ' NALCAS',\n",
       "       ' LLANQUIHUE', ' ISLA MAGDALENA'], dtype=object)"
      ]
     },
     "execution_count": 38,
     "metadata": {},
     "output_type": "execute_result"
    }
   ],
   "source": [
    "# Finally the list of protected areas that have received less than 4000 visitors by year\n",
    "conaf_parks[(conaf_parks['Año']==2017)&(conaf_parks['TOTAL']<4000)]['Unidad SNASPE'].unique()\n",
    "# Some of them are unknown to me so I will mention in the article a selection of 5 of them."
   ]
  },
  {
   "cell_type": "code",
   "execution_count": 39,
   "metadata": {},
   "outputs": [],
   "source": [
    "# An additional analysis has been started on the tourist insfrastructure, hotels, and services.\n",
    "# Given the main subject of the blog post I will not include this part but a lot of valuable information is provided by the Sernatur"
   ]
  },
  {
   "cell_type": "code",
   "execution_count": 40,
   "metadata": {},
   "outputs": [
    {
     "data": {
      "text/html": [
       "<div>\n",
       "<style scoped>\n",
       "    .dataframe tbody tr th:only-of-type {\n",
       "        vertical-align: middle;\n",
       "    }\n",
       "\n",
       "    .dataframe tbody tr th {\n",
       "        vertical-align: top;\n",
       "    }\n",
       "\n",
       "    .dataframe thead th {\n",
       "        text-align: right;\n",
       "    }\n",
       "</style>\n",
       "<table border=\"1\" class=\"dataframe\">\n",
       "  <thead>\n",
       "    <tr style=\"text-align: right;\">\n",
       "      <th></th>\n",
       "      <th>Tipo de Servicio</th>\n",
       "      <th>Región</th>\n",
       "      <th>Provincia</th>\n",
       "      <th>Comuna</th>\n",
       "      <th>Localidad</th>\n",
       "      <th>Dirección</th>\n",
       "      <th>Rut del Prestador</th>\n",
       "      <th>DV</th>\n",
       "      <th>Tipo de Empresa</th>\n",
       "      <th>Nombre o Razon Social</th>\n",
       "      <th>...</th>\n",
       "      <th>Sello Q</th>\n",
       "      <th>Calificacion Sello Q</th>\n",
       "      <th>Fecha expiración Sello Q</th>\n",
       "      <th>Número de Registro</th>\n",
       "      <th>Estado Inspeccion</th>\n",
       "      <th>Fecha Inspeccion</th>\n",
       "      <th>Tiene sello S</th>\n",
       "      <th>Fecha Termino Sello S</th>\n",
       "      <th>Clase Turismo Aventura</th>\n",
       "      <th>Clase Agencia</th>\n",
       "    </tr>\n",
       "  </thead>\n",
       "  <tbody>\n",
       "    <tr>\n",
       "      <th>0</th>\n",
       "      <td>Alojamiento Turístico</td>\n",
       "      <td>Tarapacá</td>\n",
       "      <td>IQUIQUE</td>\n",
       "      <td>IQUIQUE</td>\n",
       "      <td>IQUIQUE</td>\n",
       "      <td>Baquedano 1408 ZONA TÍPICA BOULEVARD BAQUEDANO...</td>\n",
       "      <td>Dato Protegido</td>\n",
       "      <td>Dato Protegido</td>\n",
       "      <td>Persona Natural</td>\n",
       "      <td>Alejandra Veloso Reyes</td>\n",
       "      <td>...</td>\n",
       "      <td>Sin sello Q</td>\n",
       "      <td>-</td>\n",
       "      <td>-</td>\n",
       "      <td>24781</td>\n",
       "      <td>Cumple Inspeccion</td>\n",
       "      <td>2016-10-21 00:00:00</td>\n",
       "      <td>-</td>\n",
       "      <td>-</td>\n",
       "      <td>-</td>\n",
       "      <td>-</td>\n",
       "    </tr>\n",
       "    <tr>\n",
       "      <th>1</th>\n",
       "      <td>Alojamiento Turístico</td>\n",
       "      <td>Tarapacá</td>\n",
       "      <td>IQUIQUE</td>\n",
       "      <td>IQUIQUE</td>\n",
       "      <td>IQUIQUE</td>\n",
       "      <td>Luis Uribe 445. Of. 1 -</td>\n",
       "      <td>76250627</td>\n",
       "      <td>0</td>\n",
       "      <td>Persona Jurídica</td>\n",
       "      <td>Constructora e Inmobiliaria Juan Lopez Limitada</td>\n",
       "      <td>...</td>\n",
       "      <td>Sin sello Q</td>\n",
       "      <td>-</td>\n",
       "      <td>-</td>\n",
       "      <td>17348</td>\n",
       "      <td>Cumple Inspeccion</td>\n",
       "      <td>2014-09-24 00:00:00</td>\n",
       "      <td>-</td>\n",
       "      <td>-</td>\n",
       "      <td>-</td>\n",
       "      <td>-</td>\n",
       "    </tr>\n",
       "    <tr>\n",
       "      <th>2</th>\n",
       "      <td>Alojamiento Turístico</td>\n",
       "      <td>Tarapacá</td>\n",
       "      <td>IQUIQUE</td>\n",
       "      <td>IQUIQUE</td>\n",
       "      <td>IQUIQUE</td>\n",
       "      <td>GENARO GALLO 865 -</td>\n",
       "      <td>76179873</td>\n",
       "      <td>1</td>\n",
       "      <td>Persona Jurídica</td>\n",
       "      <td>SOCIEDAD DE INVERSIONES ALBANO Y MARIANO LIMITADA</td>\n",
       "      <td>...</td>\n",
       "      <td>Sin sello Q</td>\n",
       "      <td>-</td>\n",
       "      <td>-</td>\n",
       "      <td>11376</td>\n",
       "      <td>Cumple Inspeccion</td>\n",
       "      <td>2017-12-15 00:00:00</td>\n",
       "      <td>-</td>\n",
       "      <td>-</td>\n",
       "      <td>-</td>\n",
       "      <td>-</td>\n",
       "    </tr>\n",
       "    <tr>\n",
       "      <th>3</th>\n",
       "      <td>Alojamiento Turístico</td>\n",
       "      <td>Tarapacá</td>\n",
       "      <td>IQUIQUE</td>\n",
       "      <td>IQUIQUE</td>\n",
       "      <td>IQUIQUE</td>\n",
       "      <td>Genaro Gallo 1483 -</td>\n",
       "      <td>76310667</td>\n",
       "      <td>5</td>\n",
       "      <td>Persona Jurídica</td>\n",
       "      <td>SOCIEDAD COMERCIAL ALTOS DEL NORTE SpA</td>\n",
       "      <td>...</td>\n",
       "      <td>Sin sello Q</td>\n",
       "      <td>-</td>\n",
       "      <td>-</td>\n",
       "      <td>31182</td>\n",
       "      <td>Cumple Inspeccion</td>\n",
       "      <td>2018-09-07 00:00:00</td>\n",
       "      <td>-</td>\n",
       "      <td>-</td>\n",
       "      <td>-</td>\n",
       "      <td>-</td>\n",
       "    </tr>\n",
       "    <tr>\n",
       "      <th>4</th>\n",
       "      <td>Alojamiento Turístico</td>\n",
       "      <td>Tarapacá</td>\n",
       "      <td>IQUIQUE</td>\n",
       "      <td>IQUIQUE</td>\n",
       "      <td>IQUIQUE</td>\n",
       "      <td>bolivar 752 -</td>\n",
       "      <td>Dato Protegido</td>\n",
       "      <td>Dato Protegido</td>\n",
       "      <td>Persona Natural</td>\n",
       "      <td>Julieta Pérez Yáñez</td>\n",
       "      <td>...</td>\n",
       "      <td>Sin sello Q</td>\n",
       "      <td>-</td>\n",
       "      <td>-</td>\n",
       "      <td>19089</td>\n",
       "      <td>Cumple Inspeccion</td>\n",
       "      <td>2016-09-26 00:00:00</td>\n",
       "      <td>-</td>\n",
       "      <td>-</td>\n",
       "      <td>-</td>\n",
       "      <td>-</td>\n",
       "    </tr>\n",
       "  </tbody>\n",
       "</table>\n",
       "<p>5 rows × 28 columns</p>\n",
       "</div>"
      ],
      "text/plain": [
       "        Tipo de Servicio    Región Provincia   Comuna Localidad  \\\n",
       "0  Alojamiento Turístico  Tarapacá   IQUIQUE  IQUIQUE   IQUIQUE   \n",
       "1  Alojamiento Turístico  Tarapacá   IQUIQUE  IQUIQUE   IQUIQUE   \n",
       "2  Alojamiento Turístico  Tarapacá   IQUIQUE  IQUIQUE   IQUIQUE   \n",
       "3  Alojamiento Turístico  Tarapacá   IQUIQUE  IQUIQUE   IQUIQUE   \n",
       "4  Alojamiento Turístico  Tarapacá   IQUIQUE  IQUIQUE   IQUIQUE   \n",
       "\n",
       "                                           Dirección Rut del Prestador  \\\n",
       "0  Baquedano 1408 ZONA TÍPICA BOULEVARD BAQUEDANO...    Dato Protegido   \n",
       "1                            Luis Uribe 445. Of. 1 -          76250627   \n",
       "2                                 GENARO GALLO 865 -          76179873   \n",
       "3                                Genaro Gallo 1483 -          76310667   \n",
       "4                                      bolivar 752 -    Dato Protegido   \n",
       "\n",
       "               DV   Tipo de Empresa  \\\n",
       "0  Dato Protegido   Persona Natural   \n",
       "1               0  Persona Jurídica   \n",
       "2               1  Persona Jurídica   \n",
       "3               5  Persona Jurídica   \n",
       "4  Dato Protegido   Persona Natural   \n",
       "\n",
       "                               Nombre o Razon Social      ...       \\\n",
       "0                             Alejandra Veloso Reyes      ...        \n",
       "1    Constructora e Inmobiliaria Juan Lopez Limitada      ...        \n",
       "2  SOCIEDAD DE INVERSIONES ALBANO Y MARIANO LIMITADA      ...        \n",
       "3             SOCIEDAD COMERCIAL ALTOS DEL NORTE SpA      ...        \n",
       "4                               Julieta Pérez Yáñez       ...        \n",
       "\n",
       "       Sello Q Calificacion Sello Q Fecha expiración Sello Q  \\\n",
       "0  Sin sello Q                    -                        -   \n",
       "1  Sin sello Q                    -                        -   \n",
       "2  Sin sello Q                    -                        -   \n",
       "3  Sin sello Q                    -                        -   \n",
       "4  Sin sello Q                    -                        -   \n",
       "\n",
       "  Número de Registro   Estado Inspeccion     Fecha Inspeccion Tiene sello S  \\\n",
       "0               24781  Cumple Inspeccion  2016-10-21 00:00:00             -   \n",
       "1               17348  Cumple Inspeccion  2014-09-24 00:00:00             -   \n",
       "2               11376  Cumple Inspeccion  2017-12-15 00:00:00             -   \n",
       "3               31182  Cumple Inspeccion  2018-09-07 00:00:00             -   \n",
       "4               19089  Cumple Inspeccion  2016-09-26 00:00:00             -   \n",
       "\n",
       "  Fecha Termino Sello S Clase Turismo Aventura Clase Agencia  \n",
       "0                     -                      -             -  \n",
       "1                     -                      -             -  \n",
       "2                     -                      -             -  \n",
       "3                     -                      -             -  \n",
       "4                     -                      -             -  \n",
       "\n",
       "[5 rows x 28 columns]"
      ]
     },
     "execution_count": 40,
     "metadata": {},
     "output_type": "execute_result"
    }
   ],
   "source": [
    "# Structure of the DataBase\n",
    "sernatur_suppliers.head()"
   ]
  },
  {
   "cell_type": "code",
   "execution_count": 41,
   "metadata": {},
   "outputs": [
    {
     "data": {
      "text/plain": [
       "['Tipo de Servicio',\n",
       " 'Región',\n",
       " 'Provincia',\n",
       " 'Comuna',\n",
       " 'Localidad',\n",
       " 'Dirección',\n",
       " 'Rut del Prestador',\n",
       " 'DV',\n",
       " 'Tipo de Empresa',\n",
       " 'Nombre o Razon Social',\n",
       " 'Teléfono',\n",
       " 'Web',\n",
       " 'Email',\n",
       " 'Representante(s) Legal(es)',\n",
       " 'Nombre de Fantasía (Servicio)',\n",
       " 'Clase Alojamiento',\n",
       " 'Fecha Registro',\n",
       " 'Estado de Registro',\n",
       " 'Sello Q',\n",
       " 'Calificacion Sello Q',\n",
       " 'Fecha expiración Sello Q',\n",
       " 'Número de Registro ',\n",
       " 'Estado Inspeccion',\n",
       " 'Fecha Inspeccion',\n",
       " 'Tiene sello S',\n",
       " 'Fecha Termino Sello S',\n",
       " 'Clase Turismo Aventura',\n",
       " 'Clase Agencia']"
      ]
     },
     "execution_count": 41,
     "metadata": {},
     "output_type": "execute_result"
    }
   ],
   "source": [
    "# Information available\n",
    "sernatur_suppliers.columns.tolist()"
   ]
  },
  {
   "cell_type": "code",
   "execution_count": 42,
   "metadata": {},
   "outputs": [
    {
     "data": {
      "text/plain": [
       "Alojamiento Turístico                                 8694\n",
       "Restaurantes y Similares                              2910\n",
       "Agencias de Viaje y Tour Operador                     2497\n",
       "Turismo Aventura                                      2429\n",
       "Guías de Turismo                                      1840\n",
       "Artesanía                                              591\n",
       "Taxis y Buses de Turismo                               546\n",
       "Servicios de Esparcimiento                             480\n",
       "Transporte de Pasajeros por Carretera Interurbana      311\n",
       "Arriendo de Vehículo                                   264\n",
       "Transporte de Pasajeros al Aeropuerto                  227\n",
       "Transporte de Pasajeros por Vía Marítima               141\n",
       "Servicios Deportivos                                    68\n",
       "Transporte de Pasajeros por Vía Aérea                   15\n",
       "Transporte de Pasajeros por Ferrocarril                  2\n",
       "Teleférico y Funiculares                                 1\n",
       "Name: Tipo de Servicio, dtype: int64"
      ]
     },
     "execution_count": 42,
     "metadata": {},
     "output_type": "execute_result"
    }
   ],
   "source": [
    "# Count of suppliers by type of Services\n",
    "sernatur_suppliers['Tipo de Servicio'].value_counts()"
   ]
  },
  {
   "cell_type": "code",
   "execution_count": 43,
   "metadata": {},
   "outputs": [
    {
     "data": {
      "text/plain": [
       "<matplotlib.axes._subplots.AxesSubplot at 0x1c33c129550>"
      ]
     },
     "execution_count": 43,
     "metadata": {},
     "output_type": "execute_result"
    },
    {
     "data": {
      "image/png": "[encoded data removed]",
      "text/plain": [
       "<Figure size 432x288 with 2 Axes>"
      ]
     },
     "metadata": {},
     "output_type": "display_data"
    }
   ],
   "source": [
    "# Suppliers by region and by type\n",
    "sns.heatmap(sernatur_suppliers[['Tipo de Servicio','Región']].pivot_table(index='Tipo de Servicio', columns='Región', \n",
    "                        aggfunc=len, fill_value=0),cmap=\"Blues\")\n",
    "# A lot of Hotels (with peaks In the regions of Los Lagos and Valparaiso)\n",
    "# A concentration of the travel agencies in the area of Santiago (Metropolitana) "
   ]
  },
  {
   "cell_type": "code",
   "execution_count": 44,
   "metadata": {},
   "outputs": [
    {
     "data": {
      "text/plain": [
       "Antofagasta           326\n",
       "Aysén                 269\n",
       "Coquimbo              260\n",
       "Araucanía             252\n",
       "Metropolitana         251\n",
       "Los Lagos             213\n",
       "Valparaíso            186\n",
       "Magallanes            173\n",
       "Los Ríos              109\n",
       "Atacama                90\n",
       "Maule                  85\n",
       "Bío Bío                75\n",
       "Tarapacá               65\n",
       "O'Higgins              60\n",
       "Arica y Parinacota     42\n",
       "Ñuble                  41\n",
       "Name: Región, dtype: int64"
      ]
     },
     "execution_count": 44,
     "metadata": {},
     "output_type": "execute_result"
    }
   ],
   "source": [
    "# Regions with a good supply of Adventure and Sports services\n",
    "sernatur_suppliers[sernatur_suppliers['Tipo de Servicio'].isin(['Turismo Aventura','Servicios Deportivos'])]['Región'].value_counts()"
   ]
  },
  {
   "cell_type": "code",
   "execution_count": 45,
   "metadata": {},
   "outputs": [
    {
     "data": {
      "text/plain": [
       "Los Ríos         97\n",
       "Los Lagos        87\n",
       "Metropolitana    62\n",
       "Magallanes       59\n",
       "Valparaíso       53\n",
       "Name: Región, dtype: int64"
      ]
     },
     "execution_count": 45,
     "metadata": {},
     "output_type": "execute_result"
    }
   ],
   "source": [
    "# Regions with a good supply Handcrafts\n",
    "sernatur_suppliers[sernatur_suppliers['Tipo de Servicio']=='Artesanía']['Región'].value_counts().head()"
   ]
  },
  {
   "cell_type": "code",
   "execution_count": 48,
   "metadata": {},
   "outputs": [
    {
     "data": {
      "text/plain": [
       "Metropolitana    871\n",
       "Los Lagos        209\n",
       "Valparaíso       207\n",
       "Magallanes       173\n",
       "Araucanía        170\n",
       "Name: Región, dtype: int64"
      ]
     },
     "execution_count": 48,
     "metadata": {},
     "output_type": "execute_result"
    }
   ],
   "source": [
    "# Regions with travel agencies\n",
    "sernatur_suppliers[sernatur_suppliers['Tipo de Servicio']=='Agencias de Viaje y Tour Operador']['Región'].value_counts().head()"
   ]
  },
  {
   "cell_type": "code",
   "execution_count": 49,
   "metadata": {},
   "outputs": [
    {
     "data": {
      "text/plain": [
       "Magallanes       270\n",
       "Los Lagos        223\n",
       "Metropolitana    198\n",
       "Valparaíso       165\n",
       "Antofagasta      131\n",
       "Name: Región, dtype: int64"
      ]
     },
     "execution_count": 49,
     "metadata": {},
     "output_type": "execute_result"
    }
   ],
   "source": [
    "# Regions with local guides\n",
    "sernatur_suppliers[sernatur_suppliers['Tipo de Servicio']=='Guías de Turismo']['Región'].value_counts().head()"
   ]
  },
  {
   "cell_type": "code",
   "execution_count": 59,
   "metadata": {},
   "outputs": [
    {
     "data": {
      "text/plain": [
       "<matplotlib.axes._subplots.AxesSubplot at 0x1c33d4d26a0>"
      ]
     },
     "execution_count": 59,
     "metadata": {},
     "output_type": "execute_result"
    },
    {
     "data": {
      "image/png": "[encoded data removed]",
      "text/plain": [
       "<Figure size 432x288 with 1 Axes>"
      ]
     },
     "metadata": {},
     "output_type": "display_data"
    }
   ],
   "source": [
    "# Evolution of the touristic offer\n",
    "sernatur_suppliers['Ano Registro'] = sernatur_suppliers['Fecha Registro'].map(lambda x: x.year)\n",
    "sernatur_suppliers.groupby(['Ano Registro']).count().cumsum().plot(legend=None)"
   ]
  },
  {
   "cell_type": "markdown",
   "metadata": {},
   "source": [
    "## Step 5 : Visualize"
   ]
  },
  {
   "cell_type": "markdown",
   "metadata": {},
   "source": [
    "The visualization have been created in Python (cf. supra.) but for the article some visualization done in Power BI will be used"
   ]
  },
  {
   "cell_type": "markdown",
   "metadata": {},
   "source": [
    "### Find the blog article on medium : \"How to find your next adventure destination…\n",
    "### …with a bit of data crunching and visualization\""
   ]
  }
 ],
 "metadata": {
  "kernelspec": {
   "display_name": "Python 3",
   "language": "python",
   "name": "python3"
  },
  "language_info": {
   "codemirror_mode": {
    "name": "ipython",
    "version": 3
   },
   "file_extension": ".py",
   "mimetype": "text/x-python",
   "name": "python",
   "nbconvert_exporter": "python",
   "pygments_lexer": "ipython3",
   "version": "3.6.5"
  }
 },
 "nbformat": 4,
 "nbformat_minor": 2
}
